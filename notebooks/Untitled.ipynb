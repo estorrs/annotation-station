{
 "cells": [
  {
   "cell_type": "code",
   "execution_count": 31,
   "metadata": {},
   "outputs": [],
   "source": [
    "import os\n",
    "import re\n",
    "from collections import defaultdict"
   ]
  },
  {
   "cell_type": "code",
   "execution_count": 32,
   "metadata": {},
   "outputs": [],
   "source": [
    "fp = '../annotation-station/data/repeats_table.grch38.tsv'"
   ]
  },
  {
   "cell_type": "code",
   "execution_count": 42,
   "metadata": {},
   "outputs": [],
   "source": [
    "CHROM_COLUMN = 5\n",
    "START_COLUMN = 6\n",
    "STOP_COLUMN = 7\n",
    "NAME_COLUMN = 10\n",
    "CLASS_COLUMN = 11\n",
    "FAMILY_COLUMN = 12"
   ]
  },
  {
   "cell_type": "code",
   "execution_count": 43,
   "metadata": {},
   "outputs": [],
   "source": [
    "def normalize_chrom(chrom):\n",
    "    return re.sub(r'^chr', '', chrom)\n",
    "\n",
    "def get_position_index(chrom, pos, bin_size=1000000):\n",
    "    \"\"\"Return index for the given genomic position\"\"\"\n",
    "    # get rid of chr if present\n",
    "    chrom = normalize_chrom(chrom)\n",
    "    \n",
    "    pos_tup = (chrom, int(int(pos) / bin_size))\n",
    "    \n",
    "    return pos_tup\n",
    "\n",
    "class RepeatCollection(object):\n",
    "    def __init__(self, bin_size=1000000):\n",
    "        self.allias_to_tups = defaultdict(list)\n",
    "        self.bin_size = bin_size\n",
    "        \n",
    "    def put_repeat(self, repeat_tup):\n",
    "        \"\"\"put repeat into collection\n",
    "        \n",
    "        repeat_tup - (chrom, start, stop, name, class, family)\"\"\"\n",
    "        start_index = get_position_index(repeat_tup[0], repeat_tup[1],\n",
    "                                        bin_size=self.bin_size)\n",
    "        stop_index = get_position_index(repeat_tup[0], repeat_tup[2],\n",
    "                                       bin_size=self.bin_size)\n",
    "        \n",
    "        self.allias_to_tups[start_index].append(repeat_tup)\n",
    "        if start_index != stop_index:\n",
    "            self.allias_to_tups[stop_index].append(repeat_tup)\n",
    "            \n",
    "    def get_repeat(self, chrom, pos):\n",
    "        \"\"\"Get repeat from collection\"\"\"\n",
    "        position_index = get_position_index(chrom, pos,\n",
    "                                           bin_size=self.bin_size)\n",
    "        \n",
    "        potentials = self.allias_to_tups[position_index]\n",
    "        \n",
    "        for repeat in potentials:\n",
    "            is_in_range = int(pos) >= int(repeat[1]) and int(pos) <= int(repeat[2])\n",
    "            is_same_chrom = normalize_chrom(repeat[0]) == normalize_chrom(chrom)\n",
    "            if is_in_range and is_same_chrom:\n",
    "                return repeat\n",
    "        \n",
    "        return None\n",
    "        "
   ]
  },
  {
   "cell_type": "code",
   "execution_count": 35,
   "metadata": {},
   "outputs": [],
   "source": [
    "rc = RepeatCollection()"
   ]
  },
  {
   "cell_type": "code",
   "execution_count": 26,
   "metadata": {},
   "outputs": [],
   "source": [
    "rc.put_repeat(('chr1', '9999995', '10000009', 'blah', 'blahblah', 'blahblahblah'))"
   ]
  },
  {
   "cell_type": "code",
   "execution_count": 30,
   "metadata": {},
   "outputs": [
    {
     "data": {
      "text/plain": [
       "('chr1', '9999995', '10000009', 'blah', 'blahblah', 'blahblahblah')"
      ]
     },
     "execution_count": 30,
     "metadata": {},
     "output_type": "execute_result"
    }
   ],
   "source": [
    "rc.get_repeat('chr1', '9999998')"
   ]
  },
  {
   "cell_type": "code",
   "execution_count": 44,
   "metadata": {},
   "outputs": [],
   "source": [
    "def get_repeat_collection(repeat_table_fp):\n",
    "    \"\"\"Get repeat collection from file\"\"\"\n",
    "    f = open(repeat_table_fp)\n",
    "\n",
    "    # kill header\n",
    "    f.readline()\n",
    "\n",
    "    rc = RepeatCollection()\n",
    "    for line in f:\n",
    "        pieces = line.strip().split('\\t')\n",
    "\n",
    "        chrom = pieces[CHROM_COLUMN]\n",
    "        start = pieces[START_COLUMN]\n",
    "        stop = pieces[STOP_COLUMN]\n",
    "        repeat_name = pieces[NAME_COLUMN]\n",
    "        repeat_class = pieces[CLASS_COLUMN]\n",
    "        repeat_family = pieces[FAMILY_COLUMN]\n",
    "\n",
    "        rc.put_repeat((chrom, start, stop, repeat_name, repeat_class, repeat_family))\n",
    "\n",
    "    return rc"
   ]
  },
  {
   "cell_type": "code",
   "execution_count": 45,
   "metadata": {},
   "outputs": [],
   "source": [
    "rc = get_repeat_collection(fp)"
   ]
  },
  {
   "cell_type": "code",
   "execution_count": 46,
   "metadata": {},
   "outputs": [
    {
     "data": {
      "text/plain": [
       "('chr1', '10000734', '10001032', 'AluSg4', 'SINE', 'Alu')"
      ]
     },
     "execution_count": 46,
     "metadata": {},
     "output_type": "execute_result"
    }
   ],
   "source": [
    "rc.get_repeat('chr1', '10001000')"
   ]
  },
  {
   "cell_type": "code",
   "execution_count": null,
   "metadata": {},
   "outputs": [],
   "source": []
  }
 ],
 "metadata": {
  "kernelspec": {
   "display_name": "Python 3",
   "language": "python",
   "name": "python3"
  },
  "language_info": {
   "codemirror_mode": {
    "name": "ipython",
    "version": 3
   },
   "file_extension": ".py",
   "mimetype": "text/x-python",
   "name": "python",
   "nbconvert_exporter": "python",
   "pygments_lexer": "ipython3",
   "version": "3.6.8"
  }
 },
 "nbformat": 4,
 "nbformat_minor": 2
}
